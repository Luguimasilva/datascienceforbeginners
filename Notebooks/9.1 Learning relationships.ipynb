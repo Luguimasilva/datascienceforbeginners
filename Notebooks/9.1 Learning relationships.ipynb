{
 "cells": [
  {
   "cell_type": "markdown",
   "metadata": {},
   "source": [
    "# Learning relationships"
   ]
  },
  {
   "cell_type": "markdown",
   "metadata": {},
   "source": [
    "## Network representations\n",
    "\n",
    "There are many different representations for a network.  Here are some of them, for the same graph. "
   ]
  },
  {
   "cell_type": "code",
   "execution_count": 19,
   "metadata": {
    "collapsed": false
   },
   "outputs": [],
   "source": [
    "adjmatrix = [\n",
    "[ 0, 1, 1, 1, 0, 1, 0, 0, 0, 1],\n",
    "[ 1, 0, 0, 1, 1, 0, 1, 0, 0, 1],\n",
    "[ 1, 0, 0, 1, 0, 1, 0, 0, 0, 0],\n",
    "[ 1, 1, 1, 0, 1, 1, 1, 0, 0, 0],\n",
    "[ 0, 1, 0, 1, 0, 0, 1, 0, 0, 0],\n",
    "[ 1, 0, 1, 1, 0, 0, 1, 0, 0, 0],\n",
    "[ 0, 1, 0, 1, 1, 1, 0, 0, 0, 0],\n",
    "[ 0, 0, 0, 0, 0, 0, 0, 0, 1, 0],\n",
    "[ 0, 0, 0, 0, 0, 0, 0, 1, 0, 1],\n",
    "[ 1, 1, 0, 0, 0, 0, 0, 0, 1, 0]]\n",
    "\n",
    "adjlist = {0: [1, 2, 3, 5, 9], 1: [0, 9, 3, 4, 6], 2: [0, 3, 5], 3: [0, 1, 2, 4, 5, 6],\n",
    "4: [1, 3, 6], 5: [0, 2, 3, 6], 6: [1, 3, 4, 5], 7: [8], 8: [9, 7], 9: [8, 1, 0]}\n",
    "\n",
    "edgelist = {(0,1),(0,2),(0,3),(0,5),(0,9),(1,3),(1,4),(1,6),(1,9),(2,3),(2,5),(3,4),\n",
    "(3,5),(3,6),(4,6),(5,6),(7,8),(8,9)}"
   ]
  },
  {
   "cell_type": "markdown",
   "metadata": {},
   "source": [
    "## NetworkX"
   ]
  },
  {
   "cell_type": "code",
   "execution_count": 22,
   "metadata": {
    "collapsed": false
   },
   "outputs": [
    {
     "data": {
      "image/png": "[encoded data removed]",
      "text/plain": [
       "<matplotlib.figure.Figure at 0x112b90128>"
      ]
     },
     "metadata": {},
     "output_type": "display_data"
    }
   ],
   "source": [
    "import matplotlib.pyplot as plt\n",
    "%matplotlib inline\n",
    "import networkx as nx\n",
    "\n",
    "edgelist = {(0,1),(0,2),(0,3),(0,5),(0,9),(1,3),(1,4),(1,6),\n",
    "(1,9),(2,3),(2,5),(3,4),(3,5),(3,6),(4,6),(5,6),(7,8),\n",
    "(8,9)}\n",
    "\n",
    "G = nx.Graph()\n",
    "for edge in edgelist:\n",
    "    G.add_edge(edge[0], edge[1])\n",
    "\n",
    "nx.draw(G)"
   ]
  },
  {
   "cell_type": "markdown",
   "metadata": {},
   "source": [
    "## Influence"
   ]
  },
  {
   "cell_type": "code",
   "execution_count": 20,
   "metadata": {
    "collapsed": false
   },
   "outputs": [
    {
     "name": "stdout",
     "output_type": "stream",
     "text": [
      "Degree centrality:\n",
      "{0: 0.5555555555555556, 1: 0.5555555555555556, 2: 0.3333333333333333, 3: 0.6666666666666666, 4: 0.3333333333333333, 5: 0.4444444444444444, 6: 0.4444444444444444, 7: 0.1111111111111111, 8: 0.2222222222222222, 9: 0.3333333333333333}\n",
      "\n",
      "Betweenness centrality:\n",
      "{0: 0.23148148148148143, 1: 0.23148148148148143, 2: 0.0, 3: 0.10185185185185183, 4: 0.0, 5: 0.023148148148148143, 6: 0.023148148148148143, 7: 0.0, 8: 0.2222222222222222, 9: 0.38888888888888884}\n",
      "\n",
      "Closeness centrality:\n",
      "{0: 0.6428571428571429, 1: 0.6428571428571429, 2: 0.5, 3: 0.6, 4: 0.5, 5: 0.5294117647058824, 6: 0.5294117647058824, 7: 0.3103448275862069, 8: 0.42857142857142855, 9: 0.6}\n",
      "\n",
      "Eigenvector centrality:\n",
      "{0: 0.39769090281372055, 1: 0.39769090281372055, 2: 0.28583482369644964, 3: 0.4810206692001181, 4: 0.28583482369644964, 5: 0.3522091841983857, 6: 0.35220918419838565, 7: 0.011163556091491361, 8: 0.04807425308073236, 9: 0.19586101425312444}\n"
     ]
    }
   ],
   "source": [
    "print('Degree centrality:\\n{}\\n'.format(nx.degree_centrality(G)))\n",
    "print('Betweenness centrality:\\n{}\\n'.format(nx.betweenness_centrality(G)))\n",
    "print('Closeness centrality:\\n{}\\n'.format(nx.closeness_centrality(G)))\n",
    "print('Eigenvector centrality:\\n{}'.format(nx.eigenvector_centrality(G)))"
   ]
  },
  {
   "cell_type": "markdown",
   "metadata": {},
   "source": [
    "## Clusters"
   ]
  },
  {
   "cell_type": "code",
   "execution_count": 21,
   "metadata": {
    "collapsed": false
   },
   "outputs": [
    {
     "name": "stdout",
     "output_type": "stream",
     "text": [
      "Cliques:\n",
      "[[8, 9], [8, 7], [9, 0, 1], [3, 0, 1], [3, 0, 2, 5], [3, 4, 1, 6], [3, 6, 5]]\n",
      "Cores:\n",
      "[frozenset({0, 1, 2, 3, 4, 5, 6, 9})]\n"
     ]
    }
   ],
   "source": [
    "cliques = nx.find_cliques(G)\n",
    "kcores = nx.k_clique_communities(G, 3)\n",
    "print('Cliques:\\n{}'.format(list(cliques)))\n",
    "print('Cores:\\n{}'.format(list(kcores)))"
   ]
  },
  {
   "cell_type": "code",
   "execution_count": null,
   "metadata": {
    "collapsed": true
   },
   "outputs": [],
   "source": []
  },
  {
   "cell_type": "code",
   "execution_count": null,
   "metadata": {
    "collapsed": true
   },
   "outputs": [],
   "source": []
  }
 ],
 "metadata": {
  "kernelspec": {
   "display_name": "Python 3",
   "language": "python",
   "name": "python3"
  },
  "language_info": {
   "codemirror_mode": {
    "name": "ipython",
    "version": 3
   },
   "file_extension": ".py",
   "mimetype": "text/x-python",
   "name": "python",
   "nbconvert_exporter": "python",
   "pygments_lexer": "ipython3",
   "version": "3.5.1"
  }
 },
 "nbformat": 4,
 "nbformat_minor": 0
}
