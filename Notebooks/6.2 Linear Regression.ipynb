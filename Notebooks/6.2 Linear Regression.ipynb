{
 "cells": [
  {
   "cell_type": "markdown",
   "metadata": {},
   "source": [
    "# Linear Regression\n",
    "\n",
    "Or, \"predicting numerical values from data\".\n",
    "\n",
    "In which we start our machine learning journey."
   ]
  },
  {
   "cell_type": "markdown",
   "metadata": {},
   "source": [
    "## First, get your data\n"
   ]
  },
  {
   "cell_type": "code",
   "execution_count": 23,
   "metadata": {
    "collapsed": false
   },
   "outputs": [
    {
     "data": {
      "text/plain": [
       "<matplotlib.collections.PathCollection at 0x1186750f0>"
      ]
     },
     "execution_count": 23,
     "metadata": {},
     "output_type": "execute_result"
    },
    {
     "data": {
      "image/png": "[encoded data removed]",
      "text/plain": [
       "<matplotlib.figure.Figure at 0x1182b1eb8>"
      ]
     },
     "metadata": {},
     "output_type": "display_data"
    }
   ],
   "source": [
    "import numpy as np\n",
    "import pandas as pd\n",
    "import matplotlib.pyplot as plt\n",
    "%matplotlib inline\n",
    "\n",
    "gen = np.random.RandomState(42)\n",
    "num_samples = 40\n",
    "\n",
    "x = 10 * gen.rand(num_samples)\n",
    "y = 3 * x + 7+ gen.randn(num_samples)\n",
    "X = pd.DataFrame(x)\n",
    "\n",
    "plt.scatter(x,y)"
   ]
  },
  {
   "cell_type": "markdown",
   "metadata": {
    "collapsed": false
   },
   "source": [
    "## Create your model  \n",
    "\n",
    "Note the hyperparameter \"fit_intercept\"."
   ]
  },
  {
   "cell_type": "code",
   "execution_count": 24,
   "metadata": {
    "collapsed": false
   },
   "outputs": [
    {
     "name": "stdout",
     "output_type": "stream",
     "text": [
      "Slope: [ 3.0133901], Intercept: 6.860490998051624\n"
     ]
    }
   ],
   "source": [
    "from sklearn.linear_model import LinearRegression\n",
    "\n",
    "model = LinearRegression(fit_intercept=True)\n",
    "model.fit(X, y)\n",
    "\n",
    "print('Slope: {}, Intercept: {}'.format(model.coef_, model.intercept_))"
   ]
  },
  {
   "cell_type": "markdown",
   "metadata": {},
   "source": [
    "## Check your model"
   ]
  },
  {
   "cell_type": "code",
   "execution_count": 25,
   "metadata": {
    "collapsed": false
   },
   "outputs": [
    {
     "data": {
      "text/plain": [
       "[<matplotlib.lines.Line2D at 0x118415ef0>]"
      ]
     },
     "execution_count": 25,
     "metadata": {},
     "output_type": "execute_result"
    },
    {
     "data": {
      "image/png": "[encoded data removed]",
      "text/plain": [
       "<matplotlib.figure.Figure at 0x118415588>"
      ]
     },
     "metadata": {},
     "output_type": "display_data"
    }
   ],
   "source": [
    "Xtest = pd.DataFrame(np.linspace(-1, 11))\n",
    "predicted = model.predict(Xtest)\n",
    "\n",
    "plt.scatter(x, y)\n",
    "plt.plot(Xtest, predicted)"
   ]
  },
  {
   "cell_type": "markdown",
   "metadata": {},
   "source": [
    "## A more real example: Linear Regression on the Diabetes Dataset\n",
    "\n",
    "The diabetes dataset has 442 people's data: diabetes, age, sex, weight, blood pressure etc."
   ]
  },
  {
   "cell_type": "code",
   "execution_count": 26,
   "metadata": {
    "collapsed": true
   },
   "outputs": [],
   "source": [
    "import numpy as np\n",
    "from sklearn import datasets, linear_model\n",
    "\n",
    "diabetes = datasets.load_diabetes()"
   ]
  },
  {
   "cell_type": "markdown",
   "metadata": {},
   "source": [
    "### Split diabetes into training and test sets\n",
    "\n",
    "We're using only one feature here, and taking the last 20 datapoints as a test set. "
   ]
  },
  {
   "cell_type": "code",
   "execution_count": 27,
   "metadata": {
    "collapsed": false
   },
   "outputs": [
    {
     "name": "stdout",
     "output_type": "stream",
     "text": [
      "422 training points, 20 test points\n"
     ]
    }
   ],
   "source": [
    "# Split the data into training and test sets\n",
    "diabetes_X = diabetes.data\n",
    "diabetes_X_train = diabetes_X[:-20]\n",
    "diabetes_X_test = diabetes_X[-20:]\n",
    "\n",
    "# Split the targets into training and test sets\n",
    "diabetes_y_train = diabetes.target[:-20]\n",
    "diabetes_y_test = diabetes.target[-20:]\n",
    "\n",
    "print(\"{} training points, {} test points\".format(len(diabetes_X_train), \n",
    "len(diabetes_X_test)))"
   ]
  },
  {
   "cell_type": "markdown",
   "metadata": {},
   "source": [
    "### Run Linear Regression Algorithm"
   ]
  },
  {
   "cell_type": "code",
   "execution_count": 28,
   "metadata": {
    "collapsed": false
   },
   "outputs": [
    {
     "data": {
      "text/plain": [
       "LinearRegression(copy_X=True, fit_intercept=True, n_jobs=1, normalize=False)"
      ]
     },
     "execution_count": 28,
     "metadata": {},
     "output_type": "execute_result"
    }
   ],
   "source": [
    "# Create linear regression object\n",
    "regr = linear_model.LinearRegression()\n",
    "\n",
    "# Train the model using the training sets\n",
    "regr.fit(diabetes_X_train, diabetes_y_train)"
   ]
  },
  {
   "cell_type": "markdown",
   "metadata": {},
   "source": [
    "### How good was your model?\n",
    "\n",
    "Residual sum of squares: the mean-square-error\n",
    "\n",
    "Explained variance score: 1 is perfect prediction. This model is going to need quite a bit of work."
   ]
  },
  {
   "cell_type": "code",
   "execution_count": 29,
   "metadata": {
    "collapsed": false
   },
   "outputs": [
    {
     "name": "stdout",
     "output_type": "stream",
     "text": [
      "Coefficients:  [  3.03499549e-01  -2.37639315e+02   5.10530605e+02   3.27736980e+02\n",
      "  -8.14131709e+02   4.92814588e+02   1.02848452e+02   1.84606489e+02\n",
      "   7.43519617e+02   7.60951722e+01]\n",
      "Residual sum of squares: 2004.57\n",
      "Explained variance score: 0.59\n"
     ]
    }
   ],
   "source": [
    "print('Coefficients: ', regr.coef_)\n",
    "\n",
    "print(\"Residual sum of squares: %.2f\"\n",
    "% np.mean((regr.predict(diabetes_X_test) - diabetes_y_test) ** 2))\n",
    "\n",
    "print('Explained variance score: %.2f' % regr.score(diabetes_X_test,\n",
    "diabetes_y_test))"
   ]
  },
  {
   "cell_type": "markdown",
   "metadata": {
    "collapsed": true
   },
   "source": [
    "### Try that with just one input feature..."
   ]
  },
  {
   "cell_type": "code",
   "execution_count": 31,
   "metadata": {
    "collapsed": false
   },
   "outputs": [
    {
     "data": {
      "image/png": "[encoded data removed]",
      "text/plain": [
       "<matplotlib.figure.Figure at 0x1182b1dd8>"
      ]
     },
     "metadata": {},
     "output_type": "display_data"
    },
    {
     "name": "stdout",
     "output_type": "stream",
     "text": [
      "Coefficients:  [ 938.23786125]\n",
      "Residual sum of squares: 2548.07\n",
      "Explained variance score: 0.47\n"
     ]
    }
   ],
   "source": [
    "# Make a temporary train/test set with only one feature\n",
    "diabetes_X = diabetes.data[:, np.newaxis]\n",
    "diabetes1_X = diabetes_X[:, :, 2]\n",
    "diabetes1_X_train = diabetes1_X[:-20]\n",
    "diabetes1_X_test = diabetes1_X[-20:]\n",
    "\n",
    "# Train a linear regression model on this data\n",
    "regr = linear_model.LinearRegression()\n",
    "regr.fit(diabetes1_X_train, diabetes_y_train)\n",
    "\n",
    "# Look at the results\n",
    "%matplotlib inline\n",
    "import matplotlib.pyplot as plt\n",
    "plt.scatter(diabetes1_X_train, diabetes_y_train, color='blue')\n",
    "plt.scatter(diabetes1_X_test, diabetes_y_test, color='red')\n",
    "plt.plot(diabetes1_X_test, regr.predict(diabetes1_X_test),\n",
    "color='red', linewidth=1)\n",
    "plt.xticks(())\n",
    "plt.yticks(())\n",
    "plt.show()\n",
    "\n",
    "# How good was this model?\n",
    "print('Coefficients: ', regr.coef_)\n",
    "print(\"Residual sum of squares: %.2f\"\n",
    "% np.mean((regr.predict(diabetes1_X_test) - diabetes_y_test) ** 2))\n",
    "print('Explained variance score: %.2f' % regr.score(diabetes1_X_test,\n",
    "diabetes_y_test))"
   ]
  }
 ],
 "metadata": {
  "kernelspec": {
   "display_name": "Python 3",
   "language": "python",
   "name": "python3"
  },
  "language_info": {
   "codemirror_mode": {
    "name": "ipython",
    "version": 3
   },
   "file_extension": ".py",
   "mimetype": "text/x-python",
   "name": "python",
   "nbconvert_exporter": "python",
   "pygments_lexer": "ipython3",
   "version": "3.5.1"
  }
 },
 "nbformat": 4,
 "nbformat_minor": 0
}
