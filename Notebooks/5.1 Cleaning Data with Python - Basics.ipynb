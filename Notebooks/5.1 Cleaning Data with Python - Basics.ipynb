{
 "cells": [
  {
   "cell_type": "markdown",
   "metadata": {},
   "source": [
    "# Cleaning Data with Python: Basics"
   ]
  },
  {
   "cell_type": "markdown",
   "metadata": {},
   "source": [
    "## Basic text cleaning\n",
    "\n",
    "We'll spend a lot of time cleaning up text.  Mostly this is because:\n",
    "\n",
    "* A) although you see 'Capital' and 'capital' as the same words, an algorithm will see these as different because of the capital letter in one of them\n",
    "* B) people leave a lot of invisible characters in their data (NB they do this to string representations of numerical data too - and many spreadsheet programs will store numbers as strings) - this is known as \"whitespace\", and can really mess up your day because \"whitespace\" and \"whitespace \" look the same to you, but an algorithm will see as different.\n",
    "\n",
    "In the example below, lower() converts a string into lowercase (upper() converts it into uppercase, but the convention in data science is to use all-lowercase, probably because it's less shouty to read), and strip() removes any whitespace before the first character, and after the last character (a-z etc) in the string. "
   ]
  },
  {
   "cell_type": "code",
   "execution_count": 4,
   "metadata": {
    "collapsed": false
   },
   "outputs": [
    {
     "name": "stdout",
     "output_type": "stream",
     "text": [
      "original text is - CApiTalIsaTion  Sucks  -\n",
      "lowercased text is - capitalisation  sucks  -\n",
      "Text without whitespace is -capitalisation  sucks-\n"
     ]
    }
   ],
   "source": [
    "mystring = ' CApiTalIsaTion  Sucks  '\n",
    "print('original text is -{}-'.format(mystring))\n",
    "mystring = mystring.lower()\n",
    "print('lowercased text is -{}-'.format(mystring))\n",
    "mystring = mystring.strip()\n",
    "print('Text without whitespace is -{}-'.format(mystring))"
   ]
  },
  {
   "cell_type": "markdown",
   "metadata": {
    "collapsed": true
   },
   "source": [
    "## Regular Expressions\n",
    "\n",
    "You'll notice that, even after we've run lower() and strip() on the example above, it still has two spaces together in it.  This is another common human error when entering text.  In a word processor, you'd probably do a search and replace at this point.  Python's (and many other language's) equivalent of search and replace is \"regular expressions\", also known as RegEx. You can call these using the \"re\" python library.\n",
    "\n",
    "^\\w = everything that isn’t a character or number.\n",
    "[] = a group of possible characters, e.g. [^\\w ] = alphanumeric plus space. \n",
    "\\s+,\\s+ = one or more spaces followed by a comma then one or more spaces"
   ]
  },
  {
   "cell_type": "code",
   "execution_count": 1,
   "metadata": {
    "collapsed": false
   },
   "outputs": [
    {
     "name": "stdout",
     "output_type": "stream",
     "text": [
      "This is a! sentence&& with junk!@\n",
      "This is a sentence with junk\n",
      "comma , list ,  with , extra , spaces\n",
      "comma,list,with,extra,spaces\n"
     ]
    }
   ],
   "source": [
    "import re\n",
    "string1 = 'This is a! sentence&& with junk!@'\n",
    "cleanstring1 = re.sub(r'[^\\w ]', '', string1)\n",
    "print('{}'.format(string1))\n",
    "print('{}'.format(cleanstring1))\n",
    "\n",
    "string2 = 'comma , list ,  with , extra , spaces'\n",
    "cleanstring2 = re.sub(r'\\s+,\\s+', ',', string2)\n",
    "print('{}'.format(string2))\n",
    "print('{}'.format(cleanstring2))"
   ]
  },
  {
   "cell_type": "markdown",
   "metadata": {
    "collapsed": true
   },
   "source": [
    "## Cleaning Dates and Times\n",
    "\n",
    "Dates can also be a headache, especially if you're mixing data from different sources, or have both Europeans and Americans inputting data for you (e.g. Americans write 2/14/16, Europeans write 14/2/16).\n",
    "\n",
    "You can fix some of these differences using the datetime python library: for instance, the code below converts American-formatted dates into European-formatted ones.\n",
    "\n",
    "* We start by telling datetime about the format our date string is in.  Here, we've said that it's day (d), then month (m), then year (y), all separated by '/'. \n",
    "\n",
    "* Strptime converts that string into a datetime structure. The structure itself contains elements for day, month, year, hour, minute and second.\n",
    "\n",
    "* Strftime converts a datetime structure into a string, in the format that we ask for.  Here, we've asked for month (m), day (d), year (y), all separated by '-'. There are many other options available (see section 8.1.8. in https://docs.python.org/3/library/datetime.html), only some of which are explored below.\n",
    "\n",
    "Datetime also allows you to ask for things like the day of the week (as numbers 0 to 6, where 0 is Monday). You can access each of these from the date_structure individually, as you can see below. If you want to know more, look at the datetime documentation (https://docs.python.org/3/library/datetime.html)... but for now, note how when you convert the year to 4 characters, you get '2048' (even though you might have been expecting '1948' here): yes, you too can introduce data errors if you're not careful!"
   ]
  },
  {
   "cell_type": "code",
   "execution_count": 26,
   "metadata": {
    "collapsed": false
   },
   "outputs": [
    {
     "name": "stdout",
     "output_type": "stream",
     "text": [
      "Date_structure is 2048-03-14 00:00:00\n",
      "EU version is 03-14-48\n",
      "Weekday was 5\n",
      "Date was Saturday March 14 2048\n"
     ]
    }
   ],
   "source": [
    "import datetime\n",
    "\n",
    "US_date_string = '14/03/48'\n",
    "\n",
    "date_struct = datetime.datetime.strptime(US_date_string, '%d/%m/%y')\n",
    "print(\"Date_structure is {}\".format(date_struct))\n",
    "\n",
    "EU_date_string = date_struct.strftime('%m-%d-%y')\n",
    "print(\"EU version is {}\".format(EU_date_string))\n",
    "\n",
    "print(\"Weekday was {}\".format(date_struct.weekday()))\n",
    "# the shorter version of this is \n",
    "#datetime.datetime.strptime(date_string, '%d/%m/%y').strftime('%m/%d/%y')\n",
    "\n",
    "longer_date_string = date_struct.strftime('%A %B %d %Y')\n",
    "print(\"Date was {}\".format(longer_date_string))"
   ]
  },
  {
   "cell_type": "markdown",
   "metadata": {},
   "source": [
    "Aside: You might be wondering why printing the date_structure gave you a string, not a structure. That's because the datetime library contains a \"print\" function that gives you a human-readable version of its contents. You can access each part of this structure individually, as seen below with \"month\"."
   ]
  },
  {
   "cell_type": "code",
   "execution_count": 27,
   "metadata": {
    "collapsed": false
   },
   "outputs": [
    {
     "name": "stdout",
     "output_type": "stream",
     "text": [
      "Type is <class 'datetime.datetime'>\n",
      "Month is 3\n"
     ]
    }
   ],
   "source": [
    "US_date_string = '14/03/48'\n",
    "\n",
    "date_structure = datetime.datetime.strptime(US_date_string, '%d/%m/%y')\n",
    "print(\"Type is {}\".format(type(date_structure)))\n",
    "print(\"Month is {}\".format(date_structure.month))"
   ]
  },
  {
   "cell_type": "markdown",
   "metadata": {
    "collapsed": true
   },
   "source": [
    "## Dealing with Language Encodings\n",
    "\n",
    "AKA what about cote d'ivoire?"
   ]
  },
  {
   "cell_type": "code",
   "execution_count": null,
   "metadata": {
    "collapsed": true
   },
   "outputs": [],
   "source": []
  }
 ],
 "metadata": {
  "kernelspec": {
   "display_name": "Python 3",
   "language": "python",
   "name": "python3"
  },
  "language_info": {
   "codemirror_mode": {
    "name": "ipython",
    "version": 3
   },
   "file_extension": ".py",
   "mimetype": "text/x-python",
   "name": "python",
   "nbconvert_exporter": "python",
   "pygments_lexer": "ipython3",
   "version": "3.5.1"
  }
 },
 "nbformat": 4,
 "nbformat_minor": 0
}
