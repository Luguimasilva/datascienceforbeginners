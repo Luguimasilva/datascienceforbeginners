{
 "cells": [
  {
   "cell_type": "markdown",
   "metadata": {},
   "source": [
    "# Raster Maps in Python"
   ]
  },
  {
   "cell_type": "markdown",
   "metadata": {},
   "source": [
    "## Read in a Geotiff"
   ]
  },
  {
   "cell_type": "code",
   "execution_count": null,
   "metadata": {
    "collapsed": true
   },
   "outputs": [],
   "source": [
    "import gdal \n",
    "import numpy as np\n",
    "\n",
    "dataset = gdal.Open(infile, GA_ReadOnly)\n",
    "cols = dataset.RasterXSize\n",
    "rows = dataset.RasterYSize\n",
    "nbands = dataset.RasterCount\n",
    "driver = dataset.GetDriver().LongName\n",
    "geotransform = dataset.GetGeoTransform()\n",
    "for b in range(1,nbands+1):\n",
    "    band = dataset.GetRasterBand(b)\n",
    "    bandtype = gdal.GetDataTypeName(band.DataType)\n",
    "    banddata = band.ReadAsArray(0,0,band.XSize, band.YSize).astype(np.float)"
   ]
  },
  {
   "cell_type": "markdown",
   "metadata": {},
   "source": [
    "## Check a Geotiff file\n",
    "\n",
    "Example use:\n",
    "\n",
    "infile = \"../../big_data/trees/Simard_Pinto_3DGlobalVeg_JGR.tif\"\n",
    "\n",
    "check_geotiff(infile)"
   ]
  },
  {
   "cell_type": "code",
   "execution_count": null,
   "metadata": {
    "collapsed": true
   },
   "outputs": [],
   "source": [
    "def check_geotiff(infile, print_line=False):\n",
    "    dataset = gdal.Open(infile, GA_ReadOnly)\n",
    "    cols = dataset.RasterXSize\n",
    "    rows = dataset.RasterYSize\n",
    "    nbands = dataset.RasterCount\n",
    "    driver = dataset.GetDriver().LongName\n",
    "    print(\"{} size: {}x{}x{}\".format(\n",
    "        driver, str(rows), str(cols), str(nbands)))\n",
    "    geotransform = dataset.GetGeoTransform()\n",
    "    print(geotransform)\n",
    "    bx = -32768  # arbitrary big and small numbers\n",
    "    bn = 32768\n",
    "    for b in range(1, nbands+1):\n",
    "        band = dataset.GetRasterBand(b)\n",
    "        bandtype = gdal.GetDataTypeName(band.DataType)\n",
    "        print(\"Band {} type {}\".format(b, bandtype))\n",
    "        # test first line of data\n",
    "        scanline = band.ReadRaster(\n",
    "            0, 0, band.XSize, 1, band.XSize, 1, band.DataType)\n",
    "        if print_line:\n",
    "            print(scanline)\n",
    "        # Get data ranges, histogram\n",
    "        data = band.ReadAsArray(0, 0, band.XSize, band.YSize).astype(np.float)\n",
    "        mx = np.amax(data)\n",
    "        mn = np.amin(data)\n",
    "        bx = max(bx, mx)\n",
    "        bn = min(bn, mn)\n",
    "        print(\"range {}{}\".format(mn, mx))\n",
    "        # Hist fails for 0/1 values\n",
    "        hist = np.histogram(data, bins=range(int(mn)-1, int(mx)+1))\n",
    "        # plt.hist(data, bins=range(int(mn), int(mx)))\n",
    "        # plt.show()\n",
    "    print(\"All bands max {} min {}\".format(bx, bn))\n",
    "    return(hist)"
   ]
  },
  {
   "cell_type": "markdown",
   "metadata": {},
   "source": [
    "## Creating Geotiffs from arrays\n",
    "\n",
    "See http://gis.stackexchange.com/questions/62343/how-can-i-convert-a-ascii-file-to-geotiff-using-python for details\n",
    "\n",
    "Geotransform g is an array, with:\n",
    "* g[0] /* top left x */\n",
    "* g[1] /* w-e pixel resolution */\n",
    "* g[2] /* rotation, 0 if image is \"north up\" */\n",
    "* g[3] /* top left y */\n",
    "* g[4] /* rotation, 0 if image is \"north up\" */\n",
    "* g[5] /* n-s pixel resolution */"
   ]
  },
  {
   "cell_type": "code",
   "execution_count": null,
   "metadata": {
    "collapsed": true
   },
   "outputs": [],
   "source": [
    "import numpy as np\n",
    "from gdalconst import *\n",
    "from osgeo import osr\n",
    "from osgeo import gdal\n",
    "\n",
    "def array_to_geotiff(data, xllcorner, yllcorner, cellsize, datatype, outfile):\n",
    "    nbands = 1\n",
    "    xsize = len(data)\n",
    "    ysize = len(data[0])\n",
    "    xtlcorner = xllcorner + xsize * cellsize\n",
    "    ytlcorner = yllcorner\n",
    "    raster = np.array(data)  # FIXIT: is this conversion needed?\n",
    "\n",
    "    # Create output file\n",
    "    driver = gdal.GetDriverByName(\"GTiff\")\n",
    "    dst_ds = driver.Create(outfile, xsize, ysize, nbands, gdal.GDT_Byte)\n",
    "    dst_ds.SetGeoTransform([xtlcorner, cellsize, 0, ytlcorner, 0, cellsize])\n",
    "\n",
    "    # set map projections\n",
    "    srs = osr.SpatialReference()\n",
    "    srs.SetWellKnownGeogCS(\"WGS84\")\n",
    "    dst_ds.SetProjection(srs.ExportToWkt())\n",
    "\n",
    "    # write data to output file\n",
    "    dst_ds.GetRasterBand(1).WriteArray(raster)\n",
    "\n",
    "    return()"
   ]
  }
 ],
 "metadata": {
  "kernelspec": {
   "display_name": "Python 3",
   "language": "python",
   "name": "python3"
  },
  "language_info": {
   "codemirror_mode": {
    "name": "ipython",
    "version": 3
   },
   "file_extension": ".py",
   "mimetype": "text/x-python",
   "name": "python",
   "nbconvert_exporter": "python",
   "pygments_lexer": "ipython3",
   "version": "3.5.1"
  }
 },
 "nbformat": 4,
 "nbformat_minor": 0
}
