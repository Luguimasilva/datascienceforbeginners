{
 "cells": [
  {
   "cell_type": "markdown",
   "metadata": {},
   "source": [
    "# 2.1 Reading Development Data"
   ]
  },
  {
   "cell_type": "markdown",
   "metadata": {},
   "source": [
    "## Getting data from an open API, using Python\n",
    "\n",
    "You don't need a username and password for an open API (e.g. api.worldbank.org)"
   ]
  },
  {
   "cell_type": "code",
   "execution_count": 13,
   "metadata": {
    "collapsed": false
   },
   "outputs": [
    {
     "name": "stdout",
     "output_type": "stream",
     "text": [
      "[{\"page\":1,\"pages\":80,\"per_page\":\"50\",\"total\":3968},[{\"indicator\":{\"id\":\"SP.RUR.TOTL.ZS\",\"value\":\"Rural population (% of total population)\"},\"country\":{\"id\":\"1A\",\"value\":\"Arab World\"},\"value\":null,\"decimal\":\"0\",\"date\":\"2015\"},{\"indicator\":{\"id\":\"SP.RUR.TOTL.ZS\",\"value\":\"Rural population (% of total population)\"},\"country\":{\"id\":\"1A\",\"value\":\"Arab World\"},\"value\":\"42.6115434630808\",\"decimal\":\"0\",\"date\":\"2014\"},{\"indicator\":{\"id\":\"SP.RUR.TOTL.ZS\",\"value\":\"Rural population (% of total population)\"},\"country\":{\"id\":\"1A\",\"value\":\"Arab World\"},\"value\":\"42.8783040625944\",\"decimal\":\"0\",\"date\":\"2013\"},{\"indicator\":{\"id\":\"SP.RUR.TOTL.ZS\",\"value\":\"Rural population (% of total population)\"},\"country\":{\"id\":\"1A\",\"value\":\"Arab World\"},\"value\":\"43.1509973333027\",\"decimal\":\"0\",\"date\":\"2012\"},{\"indicator\":{\"id\":\"SP.RUR.TOTL.ZS\",\"value\":\"Rural population (% of total population)\"},\"country\":{\"id\":\"1A\",\"value\":\"Arab World\"},\"value\":\"43.4349225661011\",\"decimal\":\"0\",\"date\":\"2011\"},{\"indicator\":{\"id\":\"SP.RUR.TOTL.ZS\",\"value\":\"Rural population (% of total population)\"},\"country\":{\"id\":\"1A\",\"value\":\"Arab World\"},\"value\":\"43.7341276650962\",\"decimal\":\"0\",\"date\":\"2010\"},{\"indicator\":{\"id\":\"SP.RUR.TOTL.ZS\",\"value\":\"Rural population (% of total population)\"},\"country\":{\"id\":\"1A\",\"value\":\"Arab World\"},\"value\":\"44.0655745601195\",\"decimal\":\"0\",\"date\":\"2009\"},{\"indicator\":{\"id\":\"SP.RUR.TOTL.ZS\",\"value\":\"Rural population (% of total population)\"},\"country\":{\"id\":\"1A\",\"value\":\"Arab World\"},\"value\":\"44.4092151642741\",\"decimal\":\"0\",\"date\":\"2008\"},{\"indicator\":{\"id\":\"SP.RUR.TOTL.ZS\",\"value\":\"Rural population (% of total population)\"},\"country\":{\"id\":\"1A\",\"value\":\"Arab World\"},\"value\":\"44.7580671994564\",\"decimal\":\"0\",\"date\":\"2007\"},{\"indicator\":{\"id\":\"SP.RUR.TOTL.ZS\",\"value\":\"Rural population (% of total population)\"},\"country\":{\"id\":\"1A\",\"value\":\"Arab World\"},\"value\":\"45.1075563516223\",\"decimal\":\"0\",\"date\":\"2006\"},{\"indicator\":{\"id\":\"SP.RUR.TOTL.ZS\",\"value\":\"Rural population (% of total population)\"},\"country\":{\"id\":\"1A\",\"value\":\"Arab World\"},\"value\":\"45.4552464029246\",\"decimal\":\"0\",\"date\":\"2005\"},{\"indicator\":{\"id\":\"SP.RUR.TOTL.ZS\",\"value\":\"Rural population (% of total population)\"},\"country\":{\"id\":\"1A\",\"value\":\"Arab World\"},\"value\":\"45.7825566451696\",\"decimal\":\"0\",\"date\":\"2004\"},{\"indicator\":{\"id\":\"SP.RUR.TOTL.ZS\",\"value\":\"Rural population (% of total population)\"},\"country\":{\"id\":\"1A\",\"value\":\"Arab World\"},\"value\":\"46.0820499200012\",\"decimal\":\"0\",\"date\":\"2003\"},{\"indicator\":{\"id\":\"SP.RUR.TOTL.ZS\",\"value\":\"Rural population (% of total population)\"},\"country\":{\"id\":\"1A\",\"value\":\"Arab World\"},\"value\":\"46.366713575047\",\"decimal\":\"0\",\"date\":\"2002\"},{\"indicator\":{\"id\":\"SP.RUR.TOTL.ZS\",\"value\":\"Rural population (% of total population)\"},\"country\":{\"id\":\"1A\",\"value\":\"Arab World\"},\"value\":\"46.6446291883647\",\"decimal\":\"0\",\"date\":\"2001\"},{\"indicator\":{\"id\":\"SP.RUR.TOTL.ZS\",\"value\":\"Rural population (% of total population)\"},\"country\":{\"id\":\"1A\",\"value\":\"Arab World\"},\"value\":\"46.9200048865747\",\"decimal\":\"0\",\"date\":\"2000\"},{\"indicator\":{\"id\":\"SP.RUR.TOTL.ZS\",\"value\":\"Rural population (% of total population)\"},\"country\":{\"id\":\"S3\",\"value\":\"Caribbean small states\"},\"value\":null,\"decimal\":\"0\",\"date\":\"2015\"},{\"indicator\":{\"id\":\"SP.RUR.TOTL.ZS\",\"value\":\"Rural population (% of total population)\"},\"country\":{\"id\":\"S3\",\"value\":\"Caribbean small states\"},\"value\":\"57.915662788985\",\"decimal\":\"0\",\"date\":\"2014\"},{\"indicator\":{\"id\":\"SP.RUR.TOTL.ZS\",\"value\":\"Rural population (% of total population)\"},\"country\":{\"id\":\"S3\",\"value\":\"Caribbean small states\"},\"value\":\"57.9947948755551\",\"decimal\":\"0\",\"date\":\"2013\"},{\"indicator\":{\"id\":\"SP.RUR.TOTL.ZS\",\"value\":\"Rural population (% of total population)\"},\"country\":{\"id\":\"S3\",\"value\":\"Caribbean small states\"},\"value\":\"58.0629895910515\",\"decimal\":\"0\",\"date\":\"2012\"},{\"indicator\":{\"id\":\"SP.RUR.TOTL.ZS\",\"value\":\"Rural population (% of total population)\"},\"country\":{\"id\":\"S3\",\"value\":\"Caribbean small states\"},\"value\":\"58.1227243086074\",\"decimal\":\"0\",\"date\":\"2011\"},{\"indicator\":{\"id\":\"SP.RUR.TOTL.ZS\",\"value\":\"Rural population (% of total population)\"},\"country\":{\"id\":\"S3\",\"value\":\"Caribbean small states\"},\"value\":\"58.1755945654643\",\"decimal\":\"0\",\"date\":\"2010\"},{\"indicator\":{\"id\":\"SP.RUR.TOTL.ZS\",\"value\":\"Rural population (% of total population)\"},\"country\":{\"id\":\"S3\",\"value\":\"Caribbean small states\"},\"value\":\"58.2078448009187\",\"decimal\":\"0\",\"date\":\"2009\"},{\"indicator\":{\"id\":\"SP.RUR.TOTL.ZS\",\"value\":\"Rural population (% of total population)\"},\"country\":{\"id\":\"S3\",\"value\":\"Caribbean small states\"},\"value\":\"58.2370754975634\",\"decimal\":\"0\",\"date\":\"2008\"},{\"indicator\":{\"id\":\"SP.RUR.TOTL.ZS\",\"value\":\"Rural population (% of total population)\"},\"country\":{\"id\":\"S3\",\"value\":\"Caribbean small states\"},\"value\":\"58.2654425951505\",\"decimal\":\"0\",\"date\":\"2007\"},{\"indicator\":{\"id\":\"SP.RUR.TOTL.ZS\",\"value\":\"Rural population (% of total population)\"},\"country\":{\"id\":\"S3\",\"value\":\"Caribbean small states\"},\"value\":\"58.2919994562379\",\"decimal\":\"0\",\"date\":\"2006\"},{\"indicator\":{\"id\":\"SP.RUR.TOTL.ZS\",\"value\":\"Rural population (% of total population)\"},\"country\":{\"id\":\"S3\",\"value\":\"Caribbean small states\"},\"value\":\"58.3158520717624\",\"decimal\":\"0\",\"date\":\"2005\"},{\"indicator\":{\"id\":\"SP.RUR.TOTL.ZS\",\"value\":\"Rural population (% of total population)\"},\"country\":{\"id\":\"S3\",\"value\":\"Caribbean small states\"},\"value\":\"58.3367063164147\",\"decimal\":\"0\",\"date\":\"2004\"},{\"indicator\":{\"id\":\"SP.RUR.TOTL.ZS\",\"value\":\"Rural population (% of total population)\"},\"country\":{\"id\":\"S3\",\"value\":\"Caribbean small states\"},\"value\":\"58.3642112620123\",\"decimal\":\"0\",\"date\":\"2003\"},{\"indicator\":{\"id\":\"SP.RUR.TOTL.ZS\",\"value\":\"Rural population (% of total population)\"},\"country\":{\"id\":\"S3\",\"value\":\"Caribbean small states\"},\"value\":\"58.3886296028464\",\"decimal\":\"0\",\"date\":\"2002\"},{\"indicator\":{\"id\":\"SP.RUR.TOTL.ZS\",\"value\":\"Rural population (% of total population)\"},\"country\":{\"id\":\"S3\",\"value\":\"Caribbean small states\"},\"value\":\"58.4192181179695\",\"decimal\":\"0\",\"date\":\"2001\"},{\"indicator\":{\"id\":\"SP.RUR.TOTL.ZS\",\"value\":\"Rural population (% of total population)\"},\"country\":{\"id\":\"S3\",\"value\":\"Caribbean small states\"},\"value\":\"58.5059010949513\",\"decimal\":\"0\",\"date\":\"2000\"},{\"indicator\":{\"id\":\"SP.RUR.TOTL.ZS\",\"value\":\"Rural population (% of total population)\"},\"country\":{\"id\":\"B8\",\"value\":\"Central Europe and the Baltics\"},\"value\":null,\"decimal\":\"0\",\"date\":\"2015\"},{\"indicator\":{\"id\":\"SP.RUR.TOTL.ZS\",\"value\":\"Rural population (% of total population)\"},\"country\":{\"id\":\"B8\",\"value\":\"Central Europe and the Baltics\"},\"value\":\"37.732893672516\",\"decimal\":\"0\",\"date\":\"2014\"},{\"indicator\":{\"id\":\"SP.RUR.TOTL.ZS\",\"value\":\"Rural population (% of total population)\"},\"country\":{\"id\":\"B8\",\"value\":\"Central Europe and the Baltics\"},\"value\":\"37.8023596024117\",\"decimal\":\"0\",\"date\":\"2013\"},{\"indicator\":{\"id\":\"SP.RUR.TOTL.ZS\",\"value\":\"Rural population (% of total population)\"},\"country\":{\"id\":\"B8\",\"value\":\"Central Europe and the Baltics\"},\"value\":\"37.8581526506611\",\"decimal\":\"0\",\"date\":\"2012\"},{\"indicator\":{\"id\":\"SP.RUR.TOTL.ZS\",\"value\":\"Rural population (% of total population)\"},\"country\":{\"id\":\"B8\",\"value\":\"Central Europe and the Baltics\"},\"value\":\"37.9004829589211\",\"decimal\":\"0\",\"date\":\"2011\"},{\"indicator\":{\"id\":\"SP.RUR.TOTL.ZS\",\"value\":\"Rural population (% of total population)\"},\"country\":{\"id\":\"B8\",\"value\":\"Central Europe and the Baltics\"},\"value\":\"37.9405831667341\",\"decimal\":\"0\",\"date\":\"2010\"},{\"indicator\":{\"id\":\"SP.RUR.TOTL.ZS\",\"value\":\"Rural population (% of total population)\"},\"country\":{\"id\":\"B8\",\"value\":\"Central Europe and the Baltics\"},\"value\":\"37.9798402942359\",\"decimal\":\"0\",\"date\":\"2009\"},{\"indicator\":{\"id\":\"SP.RUR.TOTL.ZS\",\"value\":\"Rural population (% of total population)\"},\"country\":{\"id\":\"B8\",\"value\":\"Central Europe and the Baltics\"},\"value\":\"38.0350070646192\",\"decimal\":\"0\",\"date\":\"2008\"},{\"indicator\":{\"id\":\"SP.RUR.TOTL.ZS\",\"value\":\"Rural population (% of total population)\"},\"country\":{\"id\":\"B8\",\"value\":\"Central Europe and the Baltics\"},\"value\":\"38.1123658050857\",\"decimal\":\"0\",\"date\":\"2007\"},{\"indicator\":{\"id\":\"SP.RUR.TOTL.ZS\",\"value\":\"Rural population (% of total population)\"},\"country\":{\"id\":\"B8\",\"value\":\"Central Europe and the Baltics\"},\"value\":\"38.1760491759287\",\"decimal\":\"0\",\"date\":\"2006\"},{\"indicator\":{\"id\":\"SP.RUR.TOTL.ZS\",\"value\":\"Rural population (% of total population)\"},\"country\":{\"id\":\"B8\",\"value\":\"Central Europe and the Baltics\"},\"value\":\"38.2327702276193\",\"decimal\":\"0\",\"date\":\"2005\"},{\"indicator\":{\"id\":\"SP.RUR.TOTL.ZS\",\"value\":\"Rural population (% of total population)\"},\"country\":{\"id\":\"B8\",\"value\":\"Central Europe and the Baltics\"},\"value\":\"38.2832496133194\",\"decimal\":\"0\",\"date\":\"2004\"},{\"indicator\":{\"id\":\"SP.RUR.TOTL.ZS\",\"value\":\"Rural population (% of total population)\"},\"country\":{\"id\":\"B8\",\"value\":\"Central Europe and the Baltics\"},\"value\":\"38.3255995004185\",\"decimal\":\"0\",\"date\":\"2003\"},{\"indicator\":{\"id\":\"SP.RUR.TOTL.ZS\",\"value\":\"Rural population (% of total population)\"},\"country\":{\"id\":\"B8\",\"value\":\"Central Europe and the Baltics\"},\"value\":\"38.3677391368699\",\"decimal\":\"0\",\"date\":\"2002\"},{\"indicator\":{\"id\":\"SP.RUR.TOTL.ZS\",\"value\":\"Rural population (% of total population)\"},\"country\":{\"id\":\"B8\",\"value\":\"Central Europe and the Baltics\"},\"value\":\"38.4281942512109\",\"decimal\":\"0\",\"date\":\"2001\"},{\"indicator\":{\"id\":\"SP.RUR.TOTL.ZS\",\"value\":\"Rural population (% of total population)\"},\"country\":{\"id\":\"B8\",\"value\":\"Central Europe and the Baltics\"},\"value\":\"38.4325607358728\",\"decimal\":\"0\",\"date\":\"2000\"},{\"indicator\":{\"id\":\"SP.RUR.TOTL.ZS\",\"value\":\"Rural population (% of total population)\"},\"country\":{\"id\":\"Z4\",\"value\":\"East Asia & Pacific (all income levels)\"},\"value\":\"57.7759364235748\",\"decimal\":\"0\",\"date\":\"2001\"},{\"indicator\":{\"id\":\"SP.RUR.TOTL.ZS\",\"value\":\"Rural population (% of total population)\"},\"country\":{\"id\":\"Z4\",\"value\":\"East Asia & Pacific (all income levels)\"},\"value\":\"58.7735668658193\",\"decimal\":\"0\",\"date\":\"2000\"}]]\n",
      "{'total': 3968, 'page': 1, 'pages': 80, 'per_page': '50'}\n"
     ]
    }
   ],
   "source": [
    "import requests\n",
    "\n",
    "worldbank_base = 'http://api.worldbank.org/'\n",
    "worldbank_ask = 'countries/all/indicators/SP.RUR.TOTL.ZS?date=2000:2015'\n",
    "worldbank_format = '&format=json' # try this with 'xml'\n",
    "worldbank_url = worldbank_base + worldbank_ask + worldbank_format\n",
    "r = requests.get(worldbank_url)\n",
    "\n",
    "data_string = r.text\n",
    "print(\"{}\".format(data_string))\n",
    "\n",
    "# Now you can save this data to a file...\n",
    "import json\n",
    "jsondata = json.loads(data_string)\n",
    "print('{}'.format(jsondata[0]))\n",
    "fout = open('wb_data.json', 'w')\n",
    "json.dump(jsondata, fout)"
   ]
  },
  {
   "cell_type": "markdown",
   "metadata": {},
   "source": [
    "## Getting data from a closed API, using Python\n",
    "\n",
    "You need a username and password for this type of API\n",
    "\n",
    "If anything goes wrong here, use this line in your code:\n",
    "print(\"{}\".format(r.status_code))\n",
    "\n",
    "\"200\" means that the transfer worked okay.  Anything else is usually a bug; the list of what the codes mean can be found at https://www.w3.org/Protocols/rfc2616/rfc2616-sec10.html"
   ]
  },
  {
   "cell_type": "code",
   "execution_count": null,
   "metadata": {
    "collapsed": true
   },
   "outputs": [],
   "source": [
    "import requests\n",
    "\n",
    "mygitname = 'bodacea'\n",
    "mygitpassword = 'nottellingyouthis'\n",
    "r = requests.get('https://api.github.com/user', auth=(mygitname, mygitpassword))\n",
    "\n",
    "data = r.text\n",
    "print(\"{}\".format(data))\n",
    "\n",
    "# Use the line below if anything goes wrong here\n",
    "# print(\"{}\".format(r.status_code))"
   ]
  },
  {
   "cell_type": "markdown",
   "metadata": {},
   "source": [
    "## JSON formatted data"
   ]
  },
  {
   "cell_type": "markdown",
   "metadata": {},
   "source": [
    "## Writing json data to a CSV file\n",
    "\n",
    "Most data-handling software can read in a CSV, so it helps to be able to read in a dataset, process it (if needed), and output it to a CSV for future use.  We can do this with the same library (json) that we used earlier to write to a json file, and the same library (csv) that we used earlier to read from a CSV file.\n",
    "\n",
    "Because json is hierarchical (doesn't have rows and columns like CSV data), there isn't an easy way to convert between these two formats: you'll have to read in your json file, and write it out line by line, as below (NB this is a very clunky piece of code).  \n",
    "\n",
    "If you have internet and your data isn't sensitive, go to a site like http://www.convertcsv.com/json-to-csv.htm and get them to do the hard work for you. "
   ]
  },
  {
   "cell_type": "code",
   "execution_count": 16,
   "metadata": {
    "collapsed": false
   },
   "outputs": [],
   "source": [
    "import csv\n",
    "import json\n",
    "\n",
    "fin = open('wb_data.json', 'r')\n",
    "fout = open('wb_data.csv', 'w')\n",
    "\n",
    "csvout = csv.writer(fout, quoting=csv.QUOTE_NONNUMERIC)\n",
    "header_row = ['date', 'value', 'indicator_id', 'indicator_value',\n",
    "              'country_id', 'country_value', 'decimal']\n",
    "csvout.writerow(header_row)\n",
    "\n",
    "jsondata = json.load(fin)\n",
    "# print('{}'.format(jsondata))\n",
    "for row in jsondata[1]:\n",
    "    rowlist = [row['date'], row['value'], row['indicator']['id'], \n",
    "               row['indicator']['value'], row['country']['id'], \n",
    "               row['country']['value'], row['decimal']]\n",
    "    csvout.writerow(rowlist)\n",
    "\n",
    "fin.close()\n",
    "fout.close()"
   ]
  }
 ],
 "metadata": {
  "kernelspec": {
   "display_name": "Python 3",
   "language": "python",
   "name": "python3"
  },
  "language_info": {
   "codemirror_mode": {
    "name": "ipython",
    "version": 3
   },
   "file_extension": ".py",
   "mimetype": "text/x-python",
   "name": "python",
   "nbconvert_exporter": "python",
   "pygments_lexer": "ipython3",
   "version": "3.5.1"
  }
 },
 "nbformat": 4,
 "nbformat_minor": 0
}
