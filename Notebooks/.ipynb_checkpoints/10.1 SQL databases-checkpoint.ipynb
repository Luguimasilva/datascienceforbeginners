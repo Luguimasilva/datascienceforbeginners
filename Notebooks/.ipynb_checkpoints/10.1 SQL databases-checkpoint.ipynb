{
 "cells": [
  {
   "cell_type": "markdown",
   "metadata": {},
   "source": [
    "# SQL\n",
    "\n",
    "See http://zetcode.com/db/sqlitepythontutorial/ and https://www.sqlite.org/quickstart.html"
   ]
  },
  {
   "cell_type": "markdown",
   "metadata": {},
   "source": [
    "## Put data into a SQLite database file\n",
    "\n",
    "BEFORE YOU START: create an empty text file called example_data/sqlite_example.db"
   ]
  },
  {
   "cell_type": "code",
   "execution_count": null,
   "metadata": {
    "collapsed": true
   },
   "outputs": [],
   "source": [
    "import sqlite3 as lite\n",
    "import sys\n",
    "\n",
    "conn = lite.connect('example_data/sqlite_example.db')\n",
    "c = conn.cursor()\n",
    "c.execute('''CREATE TABLE people (poid, firstname, lastname, balance, start date)''')\n",
    "c.execute('''INSERT INTO people VALUES (105, 'Dave', 'Smith', 5400.34, '2006-04-23')''')\n",
    "c.execute('''INSERT INTO people VALUES (106, 'Sandra', 'Smith', 15693.23, '2004-05-21')''')\n",
    "c.execute('''INSERT INTO people VALUES (107, 'Dave', 'Jones', 4325.34, '2015-04-23')''')\n",
    "c.execute('''INSERT INTO people VALUES (108, 'Emily', 'Terp', 1000000.21, '2000-01-04')''')\n",
    "c.execute('''INSERT INTO people VALUES (109, 'George', 'Masters', 1034.23, '2001-12-22')''')\n",
    "conn.commit()\n",
    "conn.close()"
   ]
  },
  {
   "cell_type": "markdown",
   "metadata": {},
   "source": [
    "## Pull data back out of a SQLite database file"
   ]
  },
  {
   "cell_type": "code",
   "execution_count": 4,
   "metadata": {
    "collapsed": false
   },
   "outputs": [
    {
     "name": "stdout",
     "output_type": "stream",
     "text": [
      "(105, 'Dave', 'Smith', 5400.34, '2006-04-23')\n"
     ]
    }
   ],
   "source": [
    "import sqlite3 as lite\n",
    "import sys\n",
    "\n",
    "conn = lite.connect('example_data/sqlite_example.db')\n",
    "c = conn.cursor()\n",
    "\n",
    "t = ('Dave',) #Do this to avoid injection attack...\n",
    "c.execute('SELECT * FROM people WHERE firstname=?', t)\n",
    "print(c.fetchone())"
   ]
  },
  {
   "cell_type": "code",
   "execution_count": 9,
   "metadata": {
    "collapsed": false
   },
   "outputs": [
    {
     "name": "stdout",
     "output_type": "stream",
     "text": [
      "\n",
      "By value:\n",
      "(109, 'George', 'Masters', 1034.23, '2001-12-22')\n",
      "(107, 'Dave', 'Jones', 4325.34, '2015-04-23')\n",
      "(105, 'Dave', 'Smith', 5400.34, '2006-04-23')\n",
      "(105, 'Dave', 'Smith', 5400.34, '2006-04-23')\n",
      "(106, 'Sandra', 'Smith', 15693.23, '2004-05-21')\n",
      "(108, 'Emily', 'Terp', 1000000.21, '2000-01-04')\n",
      "\n",
      "By start date:\n",
      "(105, 'Dave', 'Smith', 5400.34, '2006-04-23')\n",
      "(105, 'Dave', 'Smith', 5400.34, '2006-04-23')\n",
      "(106, 'Sandra', 'Smith', 15693.23, '2004-05-21')\n",
      "(107, 'Dave', 'Jones', 4325.34, '2015-04-23')\n",
      "(108, 'Emily', 'Terp', 1000000.21, '2000-01-04')\n",
      "(109, 'George', 'Masters', 1034.23, '2001-12-22')\n"
     ]
    }
   ],
   "source": [
    "print(\"\\nBy value:\")\n",
    "for row in c.execute('SELECT * FROM people ORDER BY balance'):\n",
    "    print(row)\n",
    "\n",
    "print(\"\\nBy start date:\")\n",
    "for row in c.execute('SELECT * FROM people ORDER BY \"start date\"'):\n",
    "    print(row)"
   ]
  },
  {
   "cell_type": "code",
   "execution_count": null,
   "metadata": {
    "collapsed": true
   },
   "outputs": [],
   "source": []
  }
 ],
 "metadata": {
  "kernelspec": {
   "display_name": "Python 3",
   "language": "python",
   "name": "python3"
  },
  "language_info": {
   "codemirror_mode": {
    "name": "ipython",
    "version": 3
   },
   "file_extension": ".py",
   "mimetype": "text/x-python",
   "name": "python",
   "nbconvert_exporter": "python",
   "pygments_lexer": "ipython3",
   "version": "3.5.1"
  }
 },
 "nbformat": 4,
 "nbformat_minor": 0
}
