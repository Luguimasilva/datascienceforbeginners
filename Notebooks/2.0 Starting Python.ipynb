{
 "cells": [
  {
   "cell_type": "markdown",
   "metadata": {},
   "source": [
    "# Starting Python\n",
    "\n",
    "Python is a coding language. It has lots of useful data processing functions, and is used by many data scientists. "
   ]
  },
  {
   "cell_type": "markdown",
   "metadata": {},
   "source": [
    "## 3 ways to run Python code\n",
    "By now, you will have followed the install instructions, and have Python and iPython on your machine. \n",
    "\n",
    "There are 3 ways we'll run Python code on this course: \n",
    "\n",
    "* Using the command \"ipython\" to run Python directly in the terminal window\n",
    "* Using the command \"python myfile.py\" to run Python code that you've put in a file\n",
    "* Using the command \"ipython notebook\" to start an ipython notebook like the one you're reading now\n",
    "\n",
    "There are other ways to run Python code (including running it from other applications, like Pentaho's Kettle), but we won't be doing that in class. "
   ]
  },
  {
   "cell_type": "markdown",
   "metadata": {},
   "source": [
    "## Running iPython in the terminal window\n",
    "\n",
    "You can start iPython in the terminal window by typing \"iPython\" in the terminal window. This will start the iPython interpreter (the system that reads and responds to your python commands), and write something that looks like this to the terminal window:"
   ]
  },
  {
   "cell_type": "markdown",
   "metadata": {},
   "source": [
    "sjterp:~ sjterp$ ipython\n",
    "Python 3.5.1 |Anaconda 2.4.1 (x86_64)| (default, Dec  7 2015, 11:24:55) \n",
    "Type \"copyright\", \"credits\" or \"license\" for more information.\n",
    "\n",
    "IPython 4.0.3 -- An enhanced Interactive Python.\n",
    "?         -> Introduction and overview of IPython's features.\n",
    "%quickref -> Quick reference.\n",
    "help      -> Python's own help system.\n",
    "object?   -> Details about 'object', use 'object??' for extra details.\n",
    "\n",
    "In [1]: "
   ]
  },
  {
   "cell_type": "markdown",
   "metadata": {},
   "source": [
    "You're now running python in the terminal window: anything you type in here will be interpreted as a Python command.  Go ahead and try it: type things like: \n",
    "\n",
    "* 1+2\n",
    "* print(\"Hello World!\")\n",
    "\n",
    "Notice how the results of your code are printed to the terminal window. \n",
    "\n",
    "Congratulations: you just ran your first pieces of python code.  Now escape from the iPython interpreter by typing \"exit()\"."
   ]
  },
  {
   "cell_type": "markdown",
   "metadata": {},
   "source": [
    "## Running a python file from the terminal window\n",
    "\n",
    "* Open up a text editor\n",
    "* Write \"print(\"Hello World!\")\" in the file\n",
    "* save the file as helloworld.py (be sure to use the \".py\" file extension), in the same directory that your terminal window is in.\n",
    "* In the terminal window, type \"python helloworld.py\"\n",
    "\n",
    "Congratulations: you just ran the code in your first python file."
   ]
  },
  {
   "cell_type": "markdown",
   "metadata": {},
   "source": [
    "## Using an iPython Notebook\n",
    "\n",
    "You're reading these notes in an iPython notebook. Notebook files allow you to mix formatted text with code, by separating these into \"cells\".  You'll see two types of cell in these notebooks:\n",
    "\n",
    "* Markdown cells, like this one: used for formatted text\n",
    "* Code cells, used for Python or R code\n",
    "\n",
    "Code cells contain code: there's a code cell below this one. You'll see text to the left of it, and if you run the code in the cell, outputs from that cell will appear below it. \n",
    "\n",
    "You have to tell code cells to run (it's not automatic): to do this,  select \"Cell\" from the menu above, then \"run cells\".  Alternatively, you can press Shift and Enter (\"Return\" on some keyboards) at the same time, to do the same thing.\n",
    "\n",
    "If you want to remove code outputs from a notebook, select \"Cell\" on the menu above, then \"Current Outputs\" or \"All Outputs\", then \"Clear\".\n",
    "\n",
    "NB Don't panic if you accidentally delete your notebook viewing window - open up a browser, type \"http://localhost:8888/tree\" in the address window, and you should be back in the viewer. \n",
    "\n",
    "NB Also don't panic that you can never get out of the viewer.  To stop the viewer, go to the terminal window that you started it from, and click on Control and C at the same time.  You can then restart the viewer with \"ipython notebook\" if you want to."
   ]
  },
  {
   "cell_type": "code",
   "execution_count": 4,
   "metadata": {
    "collapsed": false
   },
   "outputs": [
    {
     "name": "stdout",
     "output_type": "stream",
     "text": [
      "Hellooo World!\n"
     ]
    }
   ],
   "source": [
    "print(\"Hellooo World!\")"
   ]
  },
  {
   "cell_type": "markdown",
   "metadata": {},
   "source": [
    "## The iPython Notebook Viewer\n",
    "\n",
    "To start the iPython notebook viewer:\n",
    "* open a terminal window\n",
    "* In the terminal window, change directory (cd) to the directory with your notebooks in (or to a directory above that)\n",
    "* In the terminal window, type \"ipython notebook\" \n",
    "\n",
    "This will do two things: \n",
    "* Add text that looks like this to your terminal window: \"sjterp:inaf6513_prep sjterp$ ipython notebook\n",
    "[I 03:17:12.092 NotebookApp] Serving notebooks from local directory: /Users/sjterp/Dropbox/SJF_Teaching/SIPA 2016 DataScience for development/github/inaf6513_prep\n",
    "[I 03:17:12.092 NotebookApp] 0 active kernels \n",
    "[I 03:17:12.092 NotebookApp] The Jupyter Notebook is running at: http://localhost:8888/\n",
    "[I 03:17:12.092 NotebookApp] Use Control-C to stop this server and shut down all kernels (twice to skip confirmation).\"\n",
    "* Open a web browser window, with a page that looks like this: "
   ]
  },
  {
   "cell_type": "markdown",
   "metadata": {},
   "source": [
    "<img src='images/ipython_dashboard.png'>"
   ]
  },
  {
   "cell_type": "markdown",
   "metadata": {},
   "source": [
    "This is the notebook's dashboard. You'll see a list of the files and directories in the current directory (the directory your terminal window was in when you typed \"ipython notebook\")."
   ]
  },
  {
   "cell_type": "markdown",
   "metadata": {},
   "source": [
    "## Opening an iPython Notebook from the viewer\n",
    "\n",
    "To open an existing notebook: \n",
    "\n",
    "* Click on directories til you get to the place where your notebook file is, then \n",
    "* click on the notebook file (the .ipynb file)\n"
   ]
  },
  {
   "cell_type": "markdown",
   "metadata": {},
   "source": [
    "## Creating a new iPython notebook\n",
    "\n",
    "To create a new notebook: \n",
    "* move to the directory where you want that notebook to be\n",
    "* In the top right-hand corner of the ipython dashboard, click on \"New\", then \"Python 3\"\n",
    "* The notebook viewer will open a new page, and you can start editing it.\n",
    "\n",
    "To add a cell, click on \"Insert\" on the menu above.  This gives you the choice of adding a cell above or below the one you're currently in.\n",
    "\n",
    "We're using two cell types in these notebooks: Code cells contain code that you can run, and Markdown cells contain text that you can format. \n",
    "\n",
    "Your default cell type is \"Code\".  You can change the type of the current cell by clicking on the dropbox at the top of this page (it probably says \"Code\" or \"Markdown\" at the moment).  \n",
    "\n",
    "To change a cell to markdown, select Markdown in the dropbox at the top of this page. This stops the iPython viewer from trying to run the current cell as code, and allows you to add formatting commands like:\n",
    "\n",
    "* #: top-level heading\n",
    "* ##: second-level heading\n",
    "* *: item in a bulleted list\n",
    "* &lt;img src='image.png'&gt;: add an image to a cell (NB: you'll need the image file to do this, and you can call it whatever you want to)\n",
    "\n",
    "You can type Python code into any \"Code\" cell."
   ]
  },
  {
   "cell_type": "markdown",
   "metadata": {},
   "source": [
    "## Sharing your iPython notebooks with other people\n",
    "\n",
    "You can share iPython notebooks with other people by sending them your .ipynb files.  The people receiving them can then use the notebook viewer (\"ipython notebook\") to read and interact with them.\n",
    "\n",
    "If you just want people to read the content of your notebooks, it's possible to download notebooks as PDFs and send those PDFs to people, but this takes a bit of fiddling about with the LaTEX software package.\n",
    "\n",
    "You can also share iPython notebooks using one of the online notebook viewers: \n",
    "* http://nbviewer.jupyter.org - iPython's own notebook viewer (public)\n",
    "* http://www.github.com - github has a built-in iPython viewer: any notebook shared there will open in the viewer when you click on it\n"
   ]
  },
  {
   "cell_type": "markdown",
   "metadata": {},
   "source": [
    "## More help\n",
    "\n",
    "* Documentation for the iPython notebook: http://jupyter-notebook-beginner-guide.readthedocs.org/en/latest/execute.html\n",
    "* Much much more about Markdown:  http://jeffskinnerbox.me/notebooks/formating-ipython-notebook-with-markdown.html and https://daringfireball.net/projects/markdown/syntax\n"
   ]
  }
 ],
 "metadata": {
  "kernelspec": {
   "display_name": "Python 3",
   "language": "python",
   "name": "python3"
  },
  "language_info": {
   "codemirror_mode": {
    "name": "ipython",
    "version": 3
   },
   "file_extension": ".py",
   "mimetype": "text/x-python",
   "name": "python",
   "nbconvert_exporter": "python",
   "pygments_lexer": "ipython3",
   "version": "3.5.1"
  }
 },
 "nbformat": 4,
 "nbformat_minor": 0
}
